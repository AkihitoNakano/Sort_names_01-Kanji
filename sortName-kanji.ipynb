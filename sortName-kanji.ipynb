{
 "cells": [
  {
   "cell_type": "code",
   "execution_count": null,
   "id": "cdb15f22",
   "metadata": {},
   "outputs": [],
   "source": [
    "from pykakasi import kakasi\n",
    "\n",
    "kakasi = kakasi()\n",
    "\n",
    "def get_age(person):\n",
    "    return person[2]\n",
    "\n",
    "people = [[\"田中一郎\", 34],[\"井上吾郎\",54],[\"太田香\",23],[\"川村三郎\",21],[\"山田花子\",35],]\n",
    "for person in people:\n",
    "    hira = ''\n",
    "    result = kakasi.convert(person[0])\n",
    "    for i in result:\n",
    "        hira = hira + i['kana']\n",
    "    person.append(hira)\n",
    "    \n",
    "people2 = sorted(people, key=get_age)\n",
    "print(people2)"
   ]
  }
 ],
 "metadata": {
  "kernelspec": {
   "display_name": "Python 3 (ipykernel)",
   "language": "python",
   "name": "python3"
  },
  "language_info": {
   "codemirror_mode": {
    "name": "ipython",
    "version": 3
   },
   "file_extension": ".py",
   "mimetype": "text/x-python",
   "name": "python",
   "nbconvert_exporter": "python",
   "pygments_lexer": "ipython3",
   "version": "3.9.7"
  }
 },
 "nbformat": 4,
 "nbformat_minor": 5
}
